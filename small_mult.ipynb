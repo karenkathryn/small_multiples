{
 "cells": [
  {
   "cell_type": "markdown",
   "metadata": {},
   "source": [
    "# Small Multiples\n",
    "----\n",
    "\n",
    "Created by Cristian E. Nuno\n",
    "\n",
    "Date: August 14, 2019\n",
    "\n",
    "![example](visuals/small_multiples_example.png)\n",
    "\n",
    "## Overview\n",
    "\n",
    "Small multiples is a visualization technique that partions your data such that you're visualizing one piece of it at a time. These pieces are stored as series of individual plots (i.e. subplots) that share the same x and y-axes. \n",
    "\n",
    "Having each subplot on the same scale makes it easier for the reader to compare one subplot to the next without having to mentally account for different scales.\n",
    "\n",
    "## Goal\n",
    "\n",
    "For you to be able to create small multiples in python using [`matplotlib`](https://matplotlib.org/3.1.1/gallery/subplots_axes_and_figures/subplots_demo.html).\n",
    "\n",
    "### Inspiration\n",
    "\n",
    "This tutorial was inspired by Yan Holtz's [_Small Multiples for Line Charts_](https://python-graph-gallery.com/125-small-multiples-for-line-chart/) tutorial. \n"
   ]
  },
  {
   "cell_type": "code",
   "execution_count": 1,
   "metadata": {},
   "outputs": [],
   "source": [
    "# import necessary libraries\n",
    "import matplotlib.pyplot as plt\n",
    "import numpy as np\n",
    "import pandas as pd"
   ]
  },
  {
   "cell_type": "markdown",
   "metadata": {},
   "source": [
    "Here, each record in `df` represents the average number of commits each team member has, per hour,  over the course of one hackathon."
   ]
  },
  {
   "cell_type": "code",
   "execution_count": 2,
   "metadata": {},
   "outputs": [
    {
     "data": {
      "text/html": [
       "<div>\n",
       "<style scoped>\n",
       "    .dataframe tbody tr th:only-of-type {\n",
       "        vertical-align: middle;\n",
       "    }\n",
       "\n",
       "    .dataframe tbody tr th {\n",
       "        vertical-align: top;\n",
       "    }\n",
       "\n",
       "    .dataframe thead th {\n",
       "        text-align: right;\n",
       "    }\n",
       "</style>\n",
       "<table border=\"1\" class=\"dataframe\">\n",
       "  <thead>\n",
       "    <tr style=\"text-align: right;\">\n",
       "      <th></th>\n",
       "      <th>hour</th>\n",
       "      <th>variable</th>\n",
       "      <th>value</th>\n",
       "      <th>num_repos</th>\n",
       "    </tr>\n",
       "  </thead>\n",
       "  <tbody>\n",
       "    <tr>\n",
       "      <th>0</th>\n",
       "      <td>1</td>\n",
       "      <td>sam</td>\n",
       "      <td>4.724404</td>\n",
       "      <td>42</td>\n",
       "    </tr>\n",
       "    <tr>\n",
       "      <th>1</th>\n",
       "      <td>2</td>\n",
       "      <td>sam</td>\n",
       "      <td>6.851426</td>\n",
       "      <td>42</td>\n",
       "    </tr>\n",
       "    <tr>\n",
       "      <th>2</th>\n",
       "      <td>3</td>\n",
       "      <td>sam</td>\n",
       "      <td>5.314597</td>\n",
       "      <td>42</td>\n",
       "    </tr>\n",
       "    <tr>\n",
       "      <th>3</th>\n",
       "      <td>4</td>\n",
       "      <td>sam</td>\n",
       "      <td>3.151479</td>\n",
       "      <td>42</td>\n",
       "    </tr>\n",
       "    <tr>\n",
       "      <th>4</th>\n",
       "      <td>5</td>\n",
       "      <td>sam</td>\n",
       "      <td>4.712608</td>\n",
       "      <td>42</td>\n",
       "    </tr>\n",
       "  </tbody>\n",
       "</table>\n",
       "</div>"
      ],
      "text/plain": [
       "   hour variable     value  num_repos\n",
       "0     1      sam  4.724404         42\n",
       "1     2      sam  6.851426         42\n",
       "2     3      sam  5.314597         42\n",
       "3     4      sam  3.151479         42\n",
       "4     5      sam  4.712608         42"
      ]
     },
     "execution_count": 2,
     "metadata": {},
     "output_type": "execute_result"
    }
   ],
   "source": [
    "# import necessary data\n",
    "df = pd.read_csv(\"write_data/commits_per_hour_long.csv\")\n",
    "df[\"num_repos\"] = 42\n",
    "df.head()"
   ]
  },
  {
   "cell_type": "code",
   "execution_count": 3,
   "metadata": {},
   "outputs": [
    {
     "data": {
      "text/plain": [
       "(90, 4)"
      ]
     },
     "execution_count": 3,
     "metadata": {},
     "output_type": "execute_result"
    }
   ],
   "source": [
    "df.shape"
   ]
  },
  {
   "cell_type": "markdown",
   "metadata": {},
   "source": [
    "### Reshaping Data from Long to Wide\n",
    "\n",
    "This is an example of reshaping from wide to long:\n",
    "![wide to long](visuals/wide_to_long.png)\n",
    "\n",
    "This is an example of reshaping from long to wide:\n",
    "![long to wide](visuals/long_to_wide.png)\n",
    "\n",
    "\n",
    "When making visualizations, knowing which shape your data needs to be in is half the battle. In this case, we want to transform `df` such that is reshaped from long to wide.\n",
    "\n",
    "*Images created by RStudio. Source: https://github.com/rstudio/cheatsheets/blob/master/data-import.pdf*"
   ]
  },
  {
   "cell_type": "markdown",
   "metadata": {},
   "source": [
    "Inside of `df.pivot`, we interpret the parameters within the method like this:\n",
    "\n",
    "* `index`: the unique values within the `hour` column will be the new records\n",
    "* `columns`: for each unique value in the `variable` column, create new columns\n",
    "* `values`: assign each observation in the `value` column to the appropriate `index` and `<person>` column. Note that this is the parameter that can take a list of column names if you have more than one observation worth keeping. However, it isn't very practical so typically only one string will be supplied into `value`.\n",
    "\n",
    "*Note: we use `.reset_index()` here to transform `hour` from an index to a column.*"
   ]
  },
  {
   "cell_type": "code",
   "execution_count": 5,
   "metadata": {},
   "outputs": [
    {
     "data": {
      "text/html": [
       "<div>\n",
       "<style scoped>\n",
       "    .dataframe tbody tr th:only-of-type {\n",
       "        vertical-align: middle;\n",
       "    }\n",
       "\n",
       "    .dataframe tbody tr th {\n",
       "        vertical-align: top;\n",
       "    }\n",
       "\n",
       "    .dataframe thead th {\n",
       "        text-align: right;\n",
       "    }\n",
       "</style>\n",
       "<table border=\"1\" class=\"dataframe\">\n",
       "  <thead>\n",
       "    <tr style=\"text-align: right;\">\n",
       "      <th>variable</th>\n",
       "      <th>hour</th>\n",
       "      <th>addison</th>\n",
       "      <th>alex</th>\n",
       "      <th>blake</th>\n",
       "      <th>cameron</th>\n",
       "      <th>dakota</th>\n",
       "      <th>jaime</th>\n",
       "      <th>jordan</th>\n",
       "      <th>kieran</th>\n",
       "      <th>sam</th>\n",
       "    </tr>\n",
       "  </thead>\n",
       "  <tbody>\n",
       "    <tr>\n",
       "      <th>0</th>\n",
       "      <td>1</td>\n",
       "      <td>2.0</td>\n",
       "      <td>14.630202</td>\n",
       "      <td>10.0</td>\n",
       "      <td>8.574404</td>\n",
       "      <td>5.435655</td>\n",
       "      <td>4.118144</td>\n",
       "      <td>13.348835</td>\n",
       "      <td>9.929550</td>\n",
       "      <td>4.724404</td>\n",
       "    </tr>\n",
       "    <tr>\n",
       "      <th>1</th>\n",
       "      <td>2</td>\n",
       "      <td>2.0</td>\n",
       "      <td>14.590736</td>\n",
       "      <td>9.0</td>\n",
       "      <td>8.071311</td>\n",
       "      <td>4.745033</td>\n",
       "      <td>3.272644</td>\n",
       "      <td>10.908124</td>\n",
       "      <td>8.133082</td>\n",
       "      <td>6.851426</td>\n",
       "    </tr>\n",
       "    <tr>\n",
       "      <th>2</th>\n",
       "      <td>3</td>\n",
       "      <td>2.0</td>\n",
       "      <td>14.536613</td>\n",
       "      <td>8.0</td>\n",
       "      <td>17.197868</td>\n",
       "      <td>3.522064</td>\n",
       "      <td>8.066751</td>\n",
       "      <td>14.238251</td>\n",
       "      <td>8.960635</td>\n",
       "      <td>5.314597</td>\n",
       "    </tr>\n",
       "    <tr>\n",
       "      <th>3</th>\n",
       "      <td>4</td>\n",
       "      <td>2.0</td>\n",
       "      <td>16.951238</td>\n",
       "      <td>7.0</td>\n",
       "      <td>19.704569</td>\n",
       "      <td>5.117460</td>\n",
       "      <td>8.366856</td>\n",
       "      <td>14.921168</td>\n",
       "      <td>11.315774</td>\n",
       "      <td>3.151479</td>\n",
       "    </tr>\n",
       "    <tr>\n",
       "      <th>4</th>\n",
       "      <td>5</td>\n",
       "      <td>2.0</td>\n",
       "      <td>15.620080</td>\n",
       "      <td>6.0</td>\n",
       "      <td>18.473927</td>\n",
       "      <td>5.052497</td>\n",
       "      <td>1.130013</td>\n",
       "      <td>7.019698</td>\n",
       "      <td>11.000944</td>\n",
       "      <td>4.712608</td>\n",
       "    </tr>\n",
       "    <tr>\n",
       "      <th>5</th>\n",
       "      <td>6</td>\n",
       "      <td>2.0</td>\n",
       "      <td>15.222594</td>\n",
       "      <td>5.0</td>\n",
       "      <td>7.747308</td>\n",
       "      <td>4.543549</td>\n",
       "      <td>6.943635</td>\n",
       "      <td>15.631194</td>\n",
       "      <td>8.074668</td>\n",
       "      <td>7.676891</td>\n",
       "    </tr>\n",
       "    <tr>\n",
       "      <th>6</th>\n",
       "      <td>7</td>\n",
       "      <td>2.0</td>\n",
       "      <td>16.367474</td>\n",
       "      <td>4.0</td>\n",
       "      <td>13.485180</td>\n",
       "      <td>4.101219</td>\n",
       "      <td>10.034703</td>\n",
       "      <td>12.982883</td>\n",
       "      <td>11.133774</td>\n",
       "      <td>4.827679</td>\n",
       "    </tr>\n",
       "    <tr>\n",
       "      <th>7</th>\n",
       "      <td>8</td>\n",
       "      <td>2.0</td>\n",
       "      <td>14.127310</td>\n",
       "      <td>3.0</td>\n",
       "      <td>18.895522</td>\n",
       "      <td>6.007229</td>\n",
       "      <td>2.012095</td>\n",
       "      <td>12.544517</td>\n",
       "      <td>8.589572</td>\n",
       "      <td>6.691967</td>\n",
       "    </tr>\n",
       "    <tr>\n",
       "      <th>8</th>\n",
       "      <td>9</td>\n",
       "      <td>2.0</td>\n",
       "      <td>14.191196</td>\n",
       "      <td>2.0</td>\n",
       "      <td>18.771761</td>\n",
       "      <td>7.952056</td>\n",
       "      <td>7.857995</td>\n",
       "      <td>10.113374</td>\n",
       "      <td>9.292933</td>\n",
       "      <td>3.939243</td>\n",
       "    </tr>\n",
       "    <tr>\n",
       "      <th>9</th>\n",
       "      <td>10</td>\n",
       "      <td>2.0</td>\n",
       "      <td>15.034563</td>\n",
       "      <td>1.0</td>\n",
       "      <td>15.915267</td>\n",
       "      <td>6.764571</td>\n",
       "      <td>6.546978</td>\n",
       "      <td>11.405616</td>\n",
       "      <td>9.271267</td>\n",
       "      <td>4.386169</td>\n",
       "    </tr>\n",
       "  </tbody>\n",
       "</table>\n",
       "</div>"
      ],
      "text/plain": [
       "variable  hour  addison       alex  blake    cameron    dakota      jaime  \\\n",
       "0            1      2.0  14.630202   10.0   8.574404  5.435655   4.118144   \n",
       "1            2      2.0  14.590736    9.0   8.071311  4.745033   3.272644   \n",
       "2            3      2.0  14.536613    8.0  17.197868  3.522064   8.066751   \n",
       "3            4      2.0  16.951238    7.0  19.704569  5.117460   8.366856   \n",
       "4            5      2.0  15.620080    6.0  18.473927  5.052497   1.130013   \n",
       "5            6      2.0  15.222594    5.0   7.747308  4.543549   6.943635   \n",
       "6            7      2.0  16.367474    4.0  13.485180  4.101219  10.034703   \n",
       "7            8      2.0  14.127310    3.0  18.895522  6.007229   2.012095   \n",
       "8            9      2.0  14.191196    2.0  18.771761  7.952056   7.857995   \n",
       "9           10      2.0  15.034563    1.0  15.915267  6.764571   6.546978   \n",
       "\n",
       "variable     jordan     kieran       sam  \n",
       "0         13.348835   9.929550  4.724404  \n",
       "1         10.908124   8.133082  6.851426  \n",
       "2         14.238251   8.960635  5.314597  \n",
       "3         14.921168  11.315774  3.151479  \n",
       "4          7.019698  11.000944  4.712608  \n",
       "5         15.631194   8.074668  7.676891  \n",
       "6         12.982883  11.133774  4.827679  \n",
       "7         12.544517   8.589572  6.691967  \n",
       "8         10.113374   9.292933  3.939243  \n",
       "9         11.405616   9.271267  4.386169  "
      ]
     },
     "execution_count": 5,
     "metadata": {},
     "output_type": "execute_result"
    }
   ],
   "source": [
    "df_wide = df.pivot(index=\"hour\", \n",
    "                   columns=\"variable\", \n",
    "                   values=\"value\").reset_index()\n",
    "df_wide"
   ]
  },
  {
   "cell_type": "markdown",
   "metadata": {},
   "source": [
    "Now we'll do some styling before any creation of the figure and subplots. \n",
    "\n",
    "See [here for more information on style sheets](https://matplotlib.org/3.1.1/gallery/style_sheets/style_sheets_reference.html) and [here for information on color maps (i.e. color palettes)](https://matplotlib.org/users/colormaps.html)."
   ]
  },
  {
   "cell_type": "code",
   "execution_count": 7,
   "metadata": {},
   "outputs": [],
   "source": [
    "# enforce a specific plot style sheet\n",
    "plt.style.use(\"dark_background\")\n",
    "\n",
    "# create a color palette\n",
    "palette = plt.get_cmap(\"Paired\")"
   ]
  },
  {
   "cell_type": "markdown",
   "metadata": {},
   "source": [
    "#### Creating Small Multiples\n",
    "\n",
    "##### `fig` and `axs`\n",
    "\n",
    "As seen [in the `matplotlib` documentation](https://matplotlib.org/3.1.1/gallery/subplots_axes_and_figures/subplots_demo.html#stacking-subplots-in-two-directions), we want to create a plot figure that contains a 3X3 grid. Each of the 9 subplots will be accessible by indexing the `axs` object. \n",
    "\n",
    "##### Indexing `axs`\n",
    "\n",
    "To access the subplot in the upper left corner, index `axs` by typing `axs[0, 0]`. You read that as \"the subplot in the first row in the first column\". \n",
    "\n",
    "To access the subplot in the bottom right corner, you type `axs[2, 2]`. You read that as \"the subplot in the third row in the third column\".\n",
    "\n",
    "While it is possible to index a particular subplot via `axs[row][col]`, [`numpy` documentation](https://docs.scipy.org/doc/numpy-1.10.0/user/basics.indexing.html) discourages this behavior:\n",
    "\n",
    "> So note that `x[0, 2]` = `x[0][2]` though the second case is more inefficient as a new temporary array is created after the first index that is subsequently indexed by 2.\n",
    "\n",
    "*Always helpful to remember that [Python using zero based indexing](http://python-history.blogspot.com/2013/10/why-python-uses-0-based-indexing.html).*\n",
    "\n",
    "To avoid manually typing each subplot, we'll access each subplot by using two `for` loops: one for `row` and one for `column`. Additionally, we'll add a value of `1` to the `counter` object after each subplot so that we can highlight one teammate in color.\n",
    "\n",
    "##### Adding things to the `fig`\n",
    "\n",
    "Only after the subplots are drawn do we worry about adding elements to `fig`. Here, we'll be creating a title that will be placed in the middle of the figure at the very top. We'll also be adding labels to the x and y-axis. \n",
    "\n",
    "Finally, we'll save the figure as a `PNG` file.\n"
   ]
  },
  {
   "cell_type": "code",
   "execution_count": 29,
   "metadata": {},
   "outputs": [
    {
     "data": {
      "image/png": "[encoded data removed]",
      "text/plain": [
       "<Figure size 432x288 with 9 Axes>"
      ]
     },
     "metadata": {},
     "output_type": "display_data"
    }
   ],
   "source": [
    "# create a figure and a grid of subplots\n",
    "fig, axs = plt.subplots(nrows=3, ncols=3)\n",
    "\n",
    "# counter will store the feature index to use when highlighting a particular teammate in each subplot\n",
    "counter = 0\n",
    "# begin the nested for loop to access each individual subplot within the 3x3 grid\n",
    "# note: we are subsetting each subplot via axs[row, col]\n",
    "for row in range(axs.shape[0]):\n",
    "    for col in range(axs.shape[1]):\n",
    "        # plot every feature in each subplot as a white line with a linewidth of 0.6\n",
    "        # and an alpha of 0.3\n",
    "        # note: we want to avoid manually plotting each variation of\n",
    "        #       df[<name>] as our y-value inside of each subplot's .plot() method\n",
    "        #\n",
    "        #       to do so, find a way to store all <name> as a list and create \n",
    "        #       a 3rd nested for loop\n",
    "        for name in df_wide.columns[1:]:\n",
    "            axs[row, col].plot(df_wide.index, \n",
    "                               df_wide[name],\n",
    "                               'white',\n",
    "                               linewidth=0.6,\n",
    "                               alpha=0.3)\n",
    "\n",
    "        # for each subplot, plot only one non-\"hour\" feature - via counter - in color\n",
    "        # with a linewidth of 2.4 and an alpha of 0.9\n",
    "        # note: this where we'll input counter directly inside of palette()\n",
    " \n",
    "        axs[row, col].plot(df_wide.index, \n",
    "                               df_wide[name],\n",
    "                               'white',\n",
    "                               linewidth=0.6,\n",
    "                               alpha=0.3)\n",
    "\n",
    "\n",
    "\n",
    "        # set xlim and ylim for each subplot\n",
    "        \n",
    "        # remove x-axis tick marks from the first two rows of subplots\n",
    "\n",
    "        # remove the y-axis tick marks from the second and third columns of subplots       \n",
    "\n",
    "        # assign each subplot a title based on the one non-\"hour\" feature that was highlighted in color\n",
    "        \n",
    "        # now that we're done with this subplot, add one to counter so the next teammate is highlighted\n",
    "        \n",
    "            \n",
    "# # assign an overall title\n",
    "# fig.suptitle(\"Average number of commits over time by each team member\", \n",
    "#              fontsize=13, \n",
    "#              fontweight=0,\n",
    "#              color=\"white\", \n",
    "#              style=\"italic\", \n",
    "#              y=1.02)\n",
    " \n",
    "# # label axes\n",
    "# fig.text(0.5, 0.01, \"Time (in number of hours since start of hackathon)\", ha=\"center\", va=\"center\")\n",
    "# fig.text(0.01, 0.5, \"Number of commits\", ha=\"center\", va=\"center\", rotation='vertical')\n",
    "\n",
    "# # adjust layout so things aren't so squished\n",
    "# fig.tight_layout()\n",
    "\n",
    "# # export figure as PNG file\n",
    "# fig.savefig(\"visuals/class_small_multiples_example.png\",\n",
    "#             dpi=200,\n",
    "#             bbox_inches=\"tight\")"
   ]
  },
  {
   "cell_type": "code",
   "execution_count": 17,
   "metadata": {},
   "outputs": [
    {
     "data": {
      "image/png": "[encoded data removed]",
      "text/plain": [
       "<Figure size 432x288 with 9 Axes>"
      ]
     },
     "metadata": {},
     "output_type": "display_data"
    }
   ],
   "source": [
    "# create a figure and a grid of subplots\n",
    "fig, axs = plt.subplots(nrows=3, ncols=3)"
   ]
  },
  {
   "cell_type": "code",
   "execution_count": 21,
   "metadata": {},
   "outputs": [
    {
     "data": {
      "image/png": "[encoded data removed]",
      "text/plain": [
       "<Figure size 432x288 with 9 Axes>"
      ]
     },
     "execution_count": 21,
     "metadata": {},
     "output_type": "execute_result"
    }
   ],
   "source": [
    "#goal - make the same horiz line on each subplot\n",
    "y_val = [0.5]*10\n",
    "[[axs[i, j].plot(df_wide.index, y_val) for i in range(axs.shape[0])] for j in range(axs.shape[1])]\n",
    "fig"
   ]
  },
  {
   "cell_type": "code",
   "execution_count": null,
   "metadata": {},
   "outputs": [],
   "source": [
    "#test changes"
   ]
  }
 ],
 "metadata": {
  "kernelspec": {
   "display_name": "Python [conda env:learn-env] *",
   "language": "python",
   "name": "conda-env-learn-env-py"
  },
  "language_info": {
   "codemirror_mode": {
    "name": "ipython",
    "version": 3
   },
   "file_extension": ".py",
   "mimetype": "text/x-python",
   "name": "python",
   "nbconvert_exporter": "python",
   "pygments_lexer": "ipython3",
   "version": "3.6.6"
  }
 },
 "nbformat": 4,
 "nbformat_minor": 2
}
